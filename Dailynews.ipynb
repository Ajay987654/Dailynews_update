{
  "cells": [
    {
      "cell_type": "markdown",
      "metadata": {
        "id": "view-in-github",
        "colab_type": "text"
      },
      "source": [
        "<a href=\"https://colab.research.google.com/github/Ajay987654/Dailynews_update/blob/main/Dailynews.ipynb\" target=\"_parent\"><img src=\"https://colab.research.google.com/assets/colab-badge.svg\" alt=\"Open In Colab\"/></a>"
      ]
    },
    {
      "cell_type": "code",
      "execution_count": null,
      "metadata": {
        "colab": {
          "background_save": true,
          "base_uri": "https://localhost:8080/"
        },
        "id": "CB9ZOGwOVU39",
        "outputId": "39df5746-5d3e-49bc-b19d-108954b6e54b"
      },
      "outputs": [
        {
          "name": "stdout",
          "output_type": "stream",
          "text": [
            "\u001b[2K     \u001b[90m━━━━━━━━━━━━━━━━━━━━━━━━━━━━━━━━━━━━━━━━\u001b[0m \u001b[32m44.3/44.3 kB\u001b[0m \u001b[31m2.5 MB/s\u001b[0m eta \u001b[36m0:00:00\u001b[0m\n",
            "\u001b[2K   \u001b[90m━━━━━━━━━━━━━━━━━━━━━━━━━━━━━━━━━━━━━━━━\u001b[0m \u001b[32m9.9/9.9 MB\u001b[0m \u001b[31m60.2 MB/s\u001b[0m eta \u001b[36m0:00:00\u001b[0m\n",
            "\u001b[2K   \u001b[90m━━━━━━━━━━━━━━━━━━━━━━━━━━━━━━━━━━━━━━━━\u001b[0m \u001b[32m6.9/6.9 MB\u001b[0m \u001b[31m66.5 MB/s\u001b[0m eta \u001b[36m0:00:00\u001b[0m\n",
            "\u001b[2K   \u001b[90m━━━━━━━━━━━━━━━━━━━━━━━━━━━━━━━━━━━━━━━━\u001b[0m \u001b[32m79.1/79.1 kB\u001b[0m \u001b[31m5.2 MB/s\u001b[0m eta \u001b[36m0:00:00\u001b[0m\n",
            "\u001b[?25h"
          ]
        }
      ],
      "source": [
        "!pip install streamlit pyngrok --quiet\n"
      ]
    },
    {
      "cell_type": "code",
      "execution_count": null,
      "metadata": {
        "colab": {
          "background_save": true,
          "base_uri": "https://localhost:8080/"
        },
        "id": "qDpdfouoVjUF",
        "outputId": "8305790c-488b-451e-e9a9-dbe6de603a3e"
      },
      "outputs": [
        {
          "name": "stdout",
          "output_type": "stream",
          "text": [
            "Writing app.py\n"
          ]
        }
      ],
      "source": [
        "%%writefile app.py\n",
        "import streamlit as st\n",
        "import requests\n",
        "import pandas as pd\n",
        "from datetime import datetime\n",
        "from pyngrok import ngrok\n",
        "import time\n",
        "\n",
        "API_KEY = \"pub_1bbfe0ca365e40bc87e95228bcd68bac\"\n",
        "BASE_URL = \"https://newsdata.io/api/1/news\"\n",
        "\n",
        "COUNTRIES = {\n",
        "    \"United States\": \"us\",\n",
        "    \"India\": \"in\",\n",
        "    \"United Kingdom\": \"gb\",\n",
        "    \"Australia\": \"au\",\n",
        "    \"Canada\": \"ca\",\n",
        "    \"Germany\": \"de\",\n",
        "    \"France\": \"fr\",\n",
        "    \"Japan\": \"jp\",\n",
        "    \"Brazil\": \"br\",\n",
        "    \"Russia\": \"ru\",\n",
        "    \"China\": \"cn\"\n",
        "}\n",
        "\n",
        "CATEGORIES = [\"top\", \"business\", \"entertainment\", \"environment\", \"food\", \"health\", \"politics\", \"science\", \"sports\", \"technology\", \"tourism\", \"world\"]\n",
        "\n",
        "def fetch_news(country_code, category):\n",
        "    params = {\n",
        "        \"apikey\": API_KEY,\n",
        "        \"country\": country_code,\n",
        "        \"category\": category,\n",
        "        \"language\": \"en\"\n",
        "    }\n",
        "    response = requests.get(BASE_URL, params=params)\n",
        "    if response.status_code == 200:\n",
        "        articles = response.json().get(\"results\", [])\n",
        "        return articles\n",
        "    return []\n",
        "\n",
        "def main():\n",
        "    st.set_page_config(layout=\"wide\")\n",
        "    st.title(\"🌐 Global News Dashboard\")\n",
        "\n",
        "    col1, col2 = st.columns(2)\n",
        "    with col1:\n",
        "        country = st.selectbox(\"Select a Country\", list(COUNTRIES.keys()))\n",
        "    with col2:\n",
        "        category = st.selectbox(\"Select News Category\", CATEGORIES)\n",
        "\n",
        "    if st.button(\"Get News\"):\n",
        "        country_code = COUNTRIES[country]\n",
        "        news_data = fetch_news(country_code, category)\n",
        "        if not news_data:\n",
        "            st.warning(\"No articles found for selected options.\")\n",
        "        else:\n",
        "            for article in news_data:\n",
        "                with st.container():\n",
        "                    st.subheader(article.get(\"title\", \"📰 No Title\"))\n",
        "                    st.write(f\"🕒 Published: {article.get('pubDate', 'Unknown')}\")\n",
        "                    st.write(article.get(\"description\", \"No description available.\"))\n",
        "                    st.markdown(f\"[Read full article ➡️]({article.get('link', '#')})\")\n",
        "                    st.markdown(\"---\")\n",
        "\n",
        "if __name__ == \"__main__\":\n",
        "    main()\n"
      ]
    },
    {
      "cell_type": "code",
      "execution_count": null,
      "metadata": {
        "colab": {
          "background_save": true,
          "base_uri": "https://localhost:8080/"
        },
        "id": "S9vf7Op6VYh8",
        "outputId": "0445d8e7-ec12-49a5-e87b-2d984382a691"
      },
      "outputs": [
        {
          "name": "stdout",
          "output_type": "stream",
          "text": [
            "🚀 Your Streamlit app is live: NgrokTunnel: \"https://f375409d88d5.ngrok-free.app\" -> \"http://localhost:8501\"\n"
          ]
        }
      ],
      "source": [
        "from pyngrok import ngrok\n",
        "import time\n",
        "\n",
        "# Authenticate ngrok\n",
        "ngrok.set_auth_token(\"30Jh7hjkZSAnnyhJyY30MxhjIl6_hcc38Ekr7E7ETFsSeqEo\")\n",
        "\n",
        "# Kill any existing tunnels\n",
        "ngrok.kill()\n",
        "\n",
        "# Run Streamlit in background\n",
        "get_ipython().system_raw(\"streamlit run app.py &\")\n",
        "\n",
        "# Wait for the server to launch\n",
        "time.sleep(5)\n",
        "\n",
        "# Create and print public URL\n",
        "public_url = ngrok.connect(8501)\n",
        "print(f\"🚀 Your Streamlit app is live: {public_url}\")\n"
      ]
    }
  ],
  "metadata": {
    "colab": {
      "provenance": [],
      "include_colab_link": true
    },
    "kernelspec": {
      "display_name": "Python 3",
      "name": "python3"
    },
    "language_info": {
      "name": "python"
    }
  },
  "nbformat": 4,
  "nbformat_minor": 0
}